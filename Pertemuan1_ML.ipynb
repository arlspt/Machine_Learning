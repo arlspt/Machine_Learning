{
  "cells": [
    {
      "cell_type": "markdown",
      "metadata": {
        "id": "view-in-github",
        "colab_type": "text"
      },
      "source": [
        "<a href=\"https://colab.research.google.com/github/arlspt/Machine_Learning/blob/main/Pertemuan1_ML.ipynb\" target=\"_parent\"><img src=\"https://colab.research.google.com/assets/colab-badge.svg\" alt=\"Open In Colab\"/></a>"
      ]
    },
    {
      "cell_type": "markdown",
      "source": [
        "**Nama: Muhammad Ariel Saputra**<br>\n",
        "**NIM: 2241720034**<br>\n",
        "**Kelas: TI-3D**"
      ],
      "metadata": {
        "id": "92xdxpdZ6dw4"
      }
    },
    {
      "cell_type": "markdown",
      "source": [
        "# **Job Sheet 1.1: Ekstrasi Fitur**"
      ],
      "metadata": {
        "id": "xlq32QuT7NoX"
      }
    },
    {
      "cell_type": "markdown",
      "source": [
        "# 1. Implementasi Normalisasi"
      ],
      "metadata": {
        "id": "GV0oUBBb7gw9"
      }
    },
    {
      "cell_type": "code",
      "execution_count": null,
      "metadata": {
        "colab": {
          "base_uri": "https://localhost:8080/"
        },
        "id": "KIda9Q_Gm5E_",
        "outputId": "407ba985-9c70-46f6-8d54-e0e8817c51be"
      },
      "outputs": [
        {
          "output_type": "stream",
          "name": "stdout",
          "text": [
            "[0.0, 0.16666666666666666, 0.3333333333333333, 0.6666666666666666, 1.0]\n"
          ]
        }
      ],
      "source": [
        "def norm_data(data) :\n",
        "  # Melakukan normalisasi data.\n",
        "  # Parameters:\n",
        "  # data (list): Data yang akan dinormalisasi.\n",
        "  # Returns:\n",
        "  # data (list): Data yang sudah dinormalisasi.\n",
        "\n",
        "  data_max = max(data)\n",
        "  data_min = min(data)\n",
        "  data_len = len(data)\n",
        "\n",
        "  for i in range(0, data_len) :\n",
        "    data[i] = (data[i] - data_min) / (data_max - data_min)\n",
        "  return data\n",
        "\n",
        "# Contoh penggunaan\n",
        "data = [10, 11, 12, 14, 16]\n",
        "n_data = norm_data(data)\n",
        "print(n_data)"
      ]
    },
    {
      "cell_type": "code",
      "source": [
        "import numpy as np\n",
        "from sklearn.preprocessing import MinMaxScaler\n",
        "\n",
        "np.set_printoptions(precision=6)\n",
        "np.set_printoptions(suppress=True)\n",
        "\n",
        "data = [\n",
        "    [100, 0.0001],\n",
        "    [50, 0.05],\n",
        "    [30, 0.003]\n",
        "]\n",
        "\n",
        "data = np.asarray(data)\n",
        "print(\"Data Asli\")\n",
        "print(data)\n",
        "\n",
        "scaler = MinMaxScaler()\n",
        "scaled = scaler.fit_transform(data)\n",
        "print(\"Data Normalisasi\")\n",
        "print(scaled)"
      ],
      "metadata": {
        "colab": {
          "base_uri": "https://localhost:8080/"
        },
        "id": "ZldkU5HJJ1yY",
        "outputId": "35d29a49-b24a-4527-8e17-c92d9d6cd3ac"
      },
      "execution_count": null,
      "outputs": [
        {
          "output_type": "stream",
          "name": "stdout",
          "text": [
            "Data Asli\n",
            "[[100.       0.0001]\n",
            " [ 50.       0.05  ]\n",
            " [ 30.       0.003 ]]\n",
            "Data Normalisasi\n",
            "[[1.       0.      ]\n",
            " [0.285714 1.      ]\n",
            " [0.       0.058116]]\n"
          ]
        }
      ]
    },
    {
      "cell_type": "markdown",
      "source": [
        "# 2. Implementasi Standarisasi"
      ],
      "metadata": {
        "id": "6OtsNPZX70xa"
      }
    },
    {
      "cell_type": "code",
      "source": [
        "import numpy as np\n",
        "from sklearn.preprocessing import StandardScaler\n",
        "\n",
        "np.set_printoptions(precision=6)\n",
        "np.set_printoptions(suppress=True)\n",
        "\n",
        "data = [\n",
        "    [100, 0.0001],\n",
        "    [50, 0.05],\n",
        "    [30, 0.003]\n",
        "]\n",
        "\n",
        "data = np.asarray(data)\n",
        "print(\"Data Asli\")\n",
        "print(data)\n",
        "\n",
        "scaler = StandardScaler()\n",
        "scaled = scaler.fit_transform(data)\n",
        "print(\"Data Normalisasi\")\n",
        "print(scaled)"
      ],
      "metadata": {
        "colab": {
          "base_uri": "https://localhost:8080/"
        },
        "id": "t6hWxPJgLhrx",
        "outputId": "5f2f1853-2d05-4325-e6aa-4b903f3ebfb2"
      },
      "execution_count": null,
      "outputs": [
        {
          "output_type": "stream",
          "name": "stdout",
          "text": [
            "Data Asli\n",
            "[[100.       0.0001]\n",
            " [ 50.       0.05  ]\n",
            " [ 30.       0.003 ]]\n",
            "Data Normalisasi\n",
            "[[ 1.358732 -0.76956 ]\n",
            " [-0.339683  1.412317]\n",
            " [-1.019049 -0.642757]]\n"
          ]
        }
      ]
    },
    {
      "cell_type": "markdown",
      "source": [
        "# 3. Implementasi Ordinal Encoding"
      ],
      "metadata": {
        "id": "5vWq0V_K8Bcg"
      }
    },
    {
      "cell_type": "code",
      "source": [
        "from sklearn.preprocessing import OrdinalEncoder\n",
        "\n",
        "oe = OrdinalEncoder()\n",
        "\n",
        "data = [\n",
        "    ['Politeknik Negeri Malang'],\n",
        "    ['Politeknik Elektronika Negeri Surabaya'],\n",
        "    ['Politeknik Negeri Jakarta'],\n",
        "    ['Politeknik Negeri Semarang']\n",
        "]\n",
        "\n",
        "transform_oe = oe.fit_transform(data)\n",
        "\n",
        "print(\"Data Asli\")\n",
        "print(data)\n",
        "\n",
        "print(\"Data Transformasi Ordinal Encoder\")\n",
        "print(transform_oe)"
      ],
      "metadata": {
        "colab": {
          "base_uri": "https://localhost:8080/"
        },
        "id": "zdT5C29uL2Kg",
        "outputId": "10579421-4045-42eb-faff-c3567a7ea694"
      },
      "execution_count": null,
      "outputs": [
        {
          "output_type": "stream",
          "name": "stdout",
          "text": [
            "Data Asli\n",
            "[['Politeknik Negeri Malang'], ['Politeknik Elektronika Negeri Surabaya'], ['Politeknik Negeri Jakarta'], ['Politeknik Negeri Semarang']]\n",
            "Data Transformasi Ordinal Encoder\n",
            "[[2.]\n",
            " [0.]\n",
            " [1.]\n",
            " [3.]]\n"
          ]
        }
      ]
    },
    {
      "cell_type": "markdown",
      "source": [
        "# 4. Implementasi One-Hot Encoding"
      ],
      "metadata": {
        "id": "GbkZ00A_8HzO"
      }
    },
    {
      "cell_type": "code",
      "source": [
        "from sklearn.preprocessing import OneHotEncoder\n",
        "\n",
        "ohe = OneHotEncoder()\n",
        "\n",
        "data = [\n",
        "    ['Politeknik Negeri Malang'],\n",
        "    ['Politeknik Elektronika Negeri Surabaya'],\n",
        "    ['Politeknik Negeri Jakarta'],\n",
        "    ['Politeknik Negeri Semarang']\n",
        "]\n",
        "\n",
        "transform_ohe = ohe.fit_transform(data)\n",
        "\n",
        "print(\"Data Asli\")\n",
        "print(data)\n",
        "\n",
        "print(\"Data Transformasi Ordinal Encoder\")\n",
        "print(transform_ohe.toarray())"
      ],
      "metadata": {
        "colab": {
          "base_uri": "https://localhost:8080/"
        },
        "id": "EnZy4-X-PR1A",
        "outputId": "5e6a90b2-d46f-462b-c0ba-b901eb8e07da"
      },
      "execution_count": null,
      "outputs": [
        {
          "output_type": "stream",
          "name": "stdout",
          "text": [
            "Data Asli\n",
            "[['Politeknik Negeri Malang'], ['Politeknik Elektronika Negeri Surabaya'], ['Politeknik Negeri Jakarta'], ['Politeknik Negeri Semarang']]\n",
            "Data Transformasi Ordinal Encoder\n",
            "[[0. 0. 1. 0.]\n",
            " [1. 0. 0. 0.]\n",
            " [0. 1. 0. 0.]\n",
            " [0. 0. 0. 1.]]\n"
          ]
        }
      ]
    },
    {
      "cell_type": "markdown",
      "source": [
        "# 5. Implementasi Dummy Variable Encoding"
      ],
      "metadata": {
        "id": "dk-39JEV8UH2"
      }
    },
    {
      "cell_type": "code",
      "source": [
        "from sklearn.preprocessing import OneHotEncoder\n",
        "\n",
        "de = OneHotEncoder(drop='first')\n",
        "\n",
        "data = [\n",
        "    ['Politeknik Negeri Malang'],\n",
        "    ['Politeknik Elektronika Negeri Surabaya'],\n",
        "    ['Politeknik Negeri Jakarta'],\n",
        "    ['Politeknik Negeri Semarang']\n",
        "]\n",
        "\n",
        "transform_de = de.fit_transform(data)\n",
        "\n",
        "print(\"Data Asli\")\n",
        "print(data)\n",
        "\n",
        "print(\"Data Transformasi Ordinal Encoder\")\n",
        "print(transform_de.toarray())"
      ],
      "metadata": {
        "colab": {
          "base_uri": "https://localhost:8080/"
        },
        "id": "xeJayo1vP5D2",
        "outputId": "7bb75fdc-acb2-4b39-d65e-0dd0c47e3538"
      },
      "execution_count": null,
      "outputs": [
        {
          "output_type": "stream",
          "name": "stdout",
          "text": [
            "Data Asli\n",
            "[['Politeknik Negeri Malang'], ['Politeknik Elektronika Negeri Surabaya'], ['Politeknik Negeri Jakarta'], ['Politeknik Negeri Semarang']]\n",
            "Data Transformasi Ordinal Encoder\n",
            "[[0. 1. 0.]\n",
            " [0. 0. 0.]\n",
            " [1. 0. 0.]\n",
            " [0. 0. 1.]]\n"
          ]
        }
      ]
    },
    {
      "cell_type": "markdown",
      "source": [
        "# 6. Studi Kasus Ekstrasi Fitur dari Data Teks"
      ],
      "metadata": {
        "id": "jGSY723r8dJh"
      }
    },
    {
      "cell_type": "code",
      "source": [
        "from sklearn.feature_extraction.text import TfidfVectorizer\n",
        "\n",
        "corspus = [\n",
        "    'the house had a tiny little mouse',\n",
        "    'the cat saw the mouse',\n",
        "    'the mouse ran away from the house',\n",
        "    'the cat finally ate the mouse',\n",
        "    'the end of the mouse story']\n",
        "\n",
        "vect = TfidfVectorizer(stop_words='english')\n",
        "resp = vect.fit_transform(corspus)\n",
        "\n",
        "print('Hasil Token')\n",
        "print(vect.get_feature_names_out())"
      ],
      "metadata": {
        "colab": {
          "base_uri": "https://localhost:8080/"
        },
        "id": "oV8OJcYGQvN9",
        "outputId": "64392b33-9658-4c06-ea3b-971520015ae6"
      },
      "execution_count": null,
      "outputs": [
        {
          "output_type": "stream",
          "name": "stdout",
          "text": [
            "Hasil Token\n",
            "['ate' 'away' 'cat' 'end' 'finally' 'house' 'little' 'mouse' 'ran' 'saw'\n",
            " 'story' 'tiny']\n"
          ]
        }
      ]
    },
    {
      "cell_type": "markdown",
      "source": [
        "# Tugas Praktikum"
      ],
      "metadata": {
        "id": "HjQhy0258yUS"
      }
    },
    {
      "cell_type": "code",
      "source": [
        "from sklearn.feature_extraction.text import TfidfVectorizer\n",
        "\n",
        "file_path = '/content/drive/MyDrive/corpus.txt'\n",
        "with open(file_path, 'r') as file:\n",
        "    corpus = file.readlines()\n",
        "\n",
        "# Membuat objek TfidfVectorizer\n",
        "vectorizer = TfidfVectorizer()\n",
        "\n",
        "# Mengubah teks menjadi matriks TF-IDF\n",
        "X = vectorizer.fit_transform(corpus)\n",
        "\n",
        "# Menampilkan fitur (kata-kata unik) dan hasil TF-IDF\n",
        "print(\"Fitur (Kata-kata Unik):\\n\", vectorizer.get_feature_names_out())\n",
        "print(\"\\nMatriks TF-IDF:\\n\", X.toarray())\n"
      ],
      "metadata": {
        "colab": {
          "base_uri": "https://localhost:8080/"
        },
        "id": "z-7wFyWyUlXN",
        "outputId": "5e14408e-0502-48da-f049-51bc8b69ade7"
      },
      "execution_count": null,
      "outputs": [
        {
          "output_type": "stream",
          "name": "stdout",
          "text": [
            "Fitur (Kata-kata Unik):\n",
            " ['ate' 'away' 'cat' 'corspus' 'end' 'finally' 'from' 'had' 'house'\n",
            " 'little' 'mouse' 'of' 'ran' 'saw' 'story' 'the' 'tiny']\n",
            "\n",
            "Matriks TF-IDF:\n",
            " [[0.         0.         0.         1.         0.         0.\n",
            "  0.         0.         0.         0.         0.         0.\n",
            "  0.         0.         0.         0.         0.        ]\n",
            " [0.         0.         0.         0.         0.         0.\n",
            "  0.         0.48385387 0.40164027 0.48385387 0.26109518 0.\n",
            "  0.         0.         0.         0.26109518 0.48385387]\n",
            " [0.         0.         0.46807439 0.         0.         0.\n",
            "  0.         0.         0.         0.         0.30428216 0.\n",
            "  0.         0.5638867  0.         0.60856431 0.        ]\n",
            " [0.         0.44086807 0.         0.         0.         0.\n",
            "  0.44086807 0.         0.36595836 0.         0.23789936 0.\n",
            "  0.44086807 0.         0.         0.47579872 0.        ]\n",
            " [0.49117854 0.         0.40772037 0.         0.         0.49117854\n",
            "  0.         0.         0.         0.         0.26504769 0.\n",
            "  0.         0.         0.         0.53009537 0.        ]\n",
            " [0.         0.         0.         0.         0.47373014 0.\n",
            "  0.         0.         0.         0.         0.25563226 0.47373014\n",
            "  0.         0.         0.47373014 0.51126451 0.        ]\n",
            " [0.         0.         0.         0.         0.         0.\n",
            "  0.         0.         0.         0.         0.         0.\n",
            "  0.         0.         0.         0.         0.        ]]\n"
          ]
        }
      ]
    },
    {
      "cell_type": "code",
      "source": [
        "from google.colab import drive\n",
        "\n",
        "drive.mount('/content/drive')"
      ],
      "metadata": {
        "colab": {
          "base_uri": "https://localhost:8080/"
        },
        "id": "iUlwRQBF8GUu",
        "outputId": "a93fa004-0ad6-4c77-f078-c6cdd6ee73f7"
      },
      "execution_count": null,
      "outputs": [
        {
          "output_type": "stream",
          "name": "stdout",
          "text": [
            "Mounted at /content/drive\n"
          ]
        }
      ]
    }
  ],
  "metadata": {
    "colab": {
      "provenance": [],
      "collapsed_sections": [
        "GV0oUBBb7gw9",
        "6OtsNPZX70xa",
        "5vWq0V_K8Bcg",
        "GbkZ00A_8HzO",
        "dk-39JEV8UH2",
        "jGSY723r8dJh"
      ],
      "include_colab_link": true
    },
    "kernelspec": {
      "display_name": "Python 3",
      "name": "python3"
    },
    "language_info": {
      "name": "python"
    }
  },
  "nbformat": 4,
  "nbformat_minor": 0
}